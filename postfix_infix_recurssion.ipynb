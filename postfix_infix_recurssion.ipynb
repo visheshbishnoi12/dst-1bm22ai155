{
  "nbformat": 4,
  "nbformat_minor": 0,
  "metadata": {
    "colab": {
      "provenance": []
    },
    "kernelspec": {
      "name": "python3",
      "display_name": "Python 3"
    },
    "language_info": {
      "name": "python"
    }
  },
  "cells": [
    {
      "cell_type": "code",
      "source": [
        "def is_operator(char):\n",
        "    return char in {'+', '-', '*', '/'}\n",
        "\n",
        "def precedence(operator):\n",
        "    if operator == '+' or operator == '-':\n",
        "        return 1\n",
        "    elif operator == '*' or operator == '/':\n",
        "        return 2\n",
        "    else:\n",
        "        return 0\n",
        "\n",
        "def infix_to_postfix(infix_expression):\n",
        "    stack = []\n",
        "    postfix_expression = []\n",
        "\n",
        "    for char in infix_expression:\n",
        "        if char.isalnum():\n",
        "            # If the character is an operand, add it to the postfix expression\n",
        "            postfix_expression.append(char)\n",
        "        elif char == '(':\n",
        "            # If the character is an open parenthesis, push it onto the stack\n",
        "            stack.append(char)\n",
        "        elif char == ')':\n",
        "            # If the character is a closing parenthesis, pop operators from the stack\n",
        "            # and append them to the postfix expression until an open parenthesis is encountered\n",
        "            while stack and stack[-1] != '(':\n",
        "                postfix_expression.append(stack.pop())\n",
        "            stack.pop()  # Pop the open parenthesis from the stack\n",
        "        elif is_operator(char):\n",
        "            # If the character is an operator, pop operators from the stack and append\n",
        "            # them to the postfix expression until the stack is empty or an operator with\n",
        "            # lower precedence is encountered\n",
        "            while stack and precedence(stack[-1]) >= precedence(char):\n",
        "                postfix_expression.append(stack.pop())\n",
        "            stack.append(char)\n",
        "\n",
        "    # Pop any remaining operators from the stack and append them to the postfix expression\n",
        "    while stack:\n",
        "        postfix_expression.append(stack.pop())\n",
        "\n",
        "    return ''.join(postfix_expression)\n",
        "\n",
        "# Example usage:\n",
        "infix_expression = \"(a+b)*c+d\"\n",
        "postfix_expression = infix_to_postfix(infix_expression)\n",
        "print(\"Infix Expression:\", infix_expression)\n",
        "print(\"Postfix Expression:\", postfix_expression)"
      ],
      "metadata": {
        "colab": {
          "base_uri": "https://localhost:8080/"
        },
        "id": "pmA6AqoPjFuC",
        "outputId": "98cc029d-3660-40be-bc31-36744c09f3f6"
      },
      "execution_count": 1,
      "outputs": [
        {
          "output_type": "stream",
          "name": "stdout",
          "text": [
            "Infix Expression: (a+b)*c+d\n",
            "Postfix Expression: ab+c*d+\n"
          ]
        }
      ]
    },
    {
      "cell_type": "code",
      "source": [
        "a = list(input(\"Enter the postfix expression: \").split(\" \"))\n",
        "stack = []\n",
        "for i in a:\n",
        "   # if(len(stack)==1 and i==a[-1]):\n",
        "    #    stack[0]= -stack[0]\n",
        "     #   break\n",
        "    if(i in [\"+\", \"-\", \"*\", \"/\"]):\n",
        "        b = stack.pop()\n",
        "        c = stack.pop()\n",
        "        if(i==\"+\"):\n",
        "            stack.append(c+b)\n",
        "        elif(i==\"-\"):\n",
        "            stack.append(c-b)\n",
        "        elif(i==\"*\"):\n",
        "            stack.append(c*b)\n",
        "        elif(i==\"/\"):\n",
        "            stack.append(c/b)\n",
        "    elif i==\" \":\n",
        "        continue\n",
        "    else:\n",
        "        stack.append(int(i))\n",
        "print(\"The result of the expression: \",stack[0])"
      ],
      "metadata": {
        "colab": {
          "base_uri": "https://localhost:8080/"
        },
        "id": "IdQbNb-vjYYK",
        "outputId": "961af86a-4017-4f9b-9195-bd132e4320ff"
      },
      "execution_count": 3,
      "outputs": [
        {
          "output_type": "stream",
          "name": "stdout",
          "text": [
            "Enter the postfix expression: 5 4 6 + * 4 9 3 / + *\n",
            "The result of the expression:  350.0\n"
          ]
        }
      ]
    },
    {
      "cell_type": "code",
      "source": [
        "def fib(n):\n",
        "  if n<=1:\n",
        "    return n\n",
        "  else:\n",
        "    return fib(n-1)+fib(n-2)\n",
        "n=int(input(\"enter the number\"))\n",
        "print(fib(n))\n",
        "if n<=0:\n",
        "  print(\"invalid output\")\n",
        "else:\n",
        "  print(\"fibonacci series\")\n",
        "  for i in range(n):\n",
        "    print(fib(i))\n"
      ],
      "metadata": {
        "colab": {
          "base_uri": "https://localhost:8080/"
        },
        "id": "CXFHTSqWmQ0i",
        "outputId": "f58c461e-b491-492b-dce7-9f668039bd8f"
      },
      "execution_count": 17,
      "outputs": [
        {
          "output_type": "stream",
          "name": "stdout",
          "text": [
            "enter the number10\n",
            "55\n",
            "fibonacci series\n",
            "0\n",
            "1\n",
            "1\n",
            "2\n",
            "3\n",
            "5\n",
            "8\n",
            "13\n",
            "21\n",
            "34\n"
          ]
        }
      ]
    },
    {
      "cell_type": "code",
      "source": [],
      "metadata": {
        "id": "ptp3LBDNnZUi"
      },
      "execution_count": null,
      "outputs": []
    }
  ]
}