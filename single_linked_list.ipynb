{
  "nbformat": 4,
  "nbformat_minor": 0,
  "metadata": {
    "colab": {
      "provenance": []
    },
    "kernelspec": {
      "name": "python3",
      "display_name": "Python 3"
    },
    "language_info": {
      "name": "python"
    }
  },
  "cells": [
    {
      "cell_type": "code",
      "execution_count": null,
      "metadata": {
        "id": "IRgbiqmjktSD"
      },
      "outputs": [],
      "source": [
        "class node:\n",
        "  def __init__(self,data):\n",
        "    self.data=data\n",
        "    self.ref=None\n",
        "class linkedlist:\n",
        "  def __init__(self):\n",
        "    self.head=None\n",
        "  def display(self):\n",
        "    if self.head==None:\n",
        "      print(\"linked list is empty\")\n",
        "    else:\n",
        "      n=self.head\n",
        "      while n is not None:\n",
        "        print(n.data,\"-->\",end=\" \")\n",
        "        n=n.ref\n",
        "  def addb(self,data):\n",
        "    n_node=node(data)\n",
        "    n_node.ref=self.head\n",
        "    self.head=n_node\n",
        "  def adde(self,data):\n",
        "    n=self.head\n",
        "    if n==None:\n",
        "      print(f\"linked list is empty\")\n",
        "    else:\n",
        "      while n.ref is not None:\n",
        "        n=n.ref\n",
        "      n_node=node(data)\n",
        "      n.ref=n_node\n",
        "      n_node.ref=None\n",
        "  def addf(self,data,x):\n",
        "    n_node=node(data)\n",
        "    if self.head==None:\n",
        "      print(\"linked list is empty\")\n",
        "    else:\n",
        "      n=self.head\n",
        "      while n is not None:\n",
        "        if n.data==x:\n",
        "          break\n",
        "        n=n.ref\n",
        "      n_node.ref=n.ref\n",
        "      n.ref=n_node\n",
        "  def delb(self):\n",
        "    self.head=self.head.ref\n",
        "  def dele(self):\n",
        "    n=self.head\n",
        "    while n.ref.ref is not None:\n",
        "      n=n.ref\n",
        "    n.ref=None\n",
        "  def delf(self,x):\n",
        "    n=self.head\n",
        "    while n is not None:\n",
        "      if x==n.data:\n",
        "        break\n",
        "      n=n.ref\n",
        "    n.ref=n.ref.ref\n",
        "\n",
        "\n",
        "\n",
        "\n",
        "\n",
        "\n",
        "\n",
        "\n"
      ]
    },
    {
      "cell_type": "code",
      "source": [
        "l=linkedlist()\n",
        "l.addb(40)\n",
        "l.addb(30)\n",
        "l.addb(20)\n",
        "l.addb(10)\n",
        "l.adde(50)\n",
        "l.adde(60)\n",
        "l.delf(20)\n",
        "l.display()"
      ],
      "metadata": {
        "colab": {
          "base_uri": "https://localhost:8080/"
        },
        "id": "RcpJ2ebxn6Ya",
        "outputId": "14648c39-bc18-426b-9e94-7dfa2ecaef1b"
      },
      "execution_count": null,
      "outputs": [
        {
          "output_type": "stream",
          "name": "stdout",
          "text": [
            "10 --> 20 --> 40 --> 50 --> 60 --> "
          ]
        }
      ]
    },
    {
      "cell_type": "code",
      "source": [
        "class node:\n",
        "  def __init__(self,data):\n",
        "    self.data=data\n",
        "    self.ref=None\n",
        "class linkedlist:\n",
        "  def __init__(self):\n",
        "    self.head=None\n",
        "  def dis(self):\n",
        "    n=self.head\n",
        "    if n is None:\n",
        "      print(f\"linked list is empty\")\n",
        "    else:\n",
        "      while n is not None:\n",
        "        print(n.data,\"-->\",end=\" \")\n",
        "        n=n.ref"
      ],
      "metadata": {
        "id": "zBCiA0z6w1jK"
      },
      "execution_count": null,
      "outputs": []
    },
    {
      "cell_type": "code",
      "source": [
        "l=linkedlist()\n",
        "l.dis()"
      ],
      "metadata": {
        "colab": {
          "base_uri": "https://localhost:8080/"
        },
        "id": "Jo3BvfcDxlxA",
        "outputId": "850f32f6-74d8-4fd8-8024-8b63131f63b0"
      },
      "execution_count": null,
      "outputs": [
        {
          "output_type": "stream",
          "name": "stdout",
          "text": [
            "linked list is empty\n"
          ]
        }
      ]
    }
  ]
}