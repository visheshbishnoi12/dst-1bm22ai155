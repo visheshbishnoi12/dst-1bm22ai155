{
  "nbformat": 4,
  "nbformat_minor": 0,
  "metadata": {
    "colab": {
      "provenance": []
    },
    "kernelspec": {
      "name": "python3",
      "display_name": "Python 3"
    },
    "language_info": {
      "name": "python"
    }
  },
  "cells": [
    {
      "cell_type": "code",
      "source": [
        "def is_operator(char):\n",
        "    return char in {'+', '-', '*', '/'}\n",
        "\n",
        "def precedence(operator):\n",
        "    if operator == '+' or operator == '-':\n",
        "        return 1\n",
        "    elif operator == '*' or operator == '/':\n",
        "        return 2\n",
        "    else:\n",
        "        return 0\n",
        "\n",
        "def infix_to_postfix(infix_expression):\n",
        "    stack = []\n",
        "    postfix_expression = []\n",
        "\n",
        "    for char in infix_expression:\n",
        "        if char.isalnum():\n",
        "            postfix_expression.append(char)\n",
        "        elif char == '(':\n",
        "            stack.append(char)\n",
        "        elif char == ')':\n",
        "            while stack and stack[-1] != '(':\n",
        "                postfix_expression.append(stack.pop())\n",
        "            stack.pop()\n",
        "        elif is_operator(char):\n",
        "            while stack and precedence(stack[-1]) >= precedence(char):\n",
        "                postfix_expression.append(stack.pop())\n",
        "            stack.append(char)\n",
        "    while stack:\n",
        "        postfix_expression.append(stack.pop())\n",
        "\n",
        "    return ''.join(postfix_expression)\n",
        "infix_expression = \"a-(b*c-d)/e\"\n",
        "postfix_expression = infix_to_postfix(infix_expression)\n",
        "print(\"Infix Expression:\", infix_expression)\n",
        "print(\"Postfix Expression:\", postfix_expression)"
      ],
      "metadata": {
        "colab": {
          "base_uri": "https://localhost:8080/"
        },
        "id": "pmA6AqoPjFuC",
        "outputId": "3ca3babf-76e6-468f-8c94-dd74bd417f45"
      },
      "execution_count": 4,
      "outputs": [
        {
          "output_type": "stream",
          "name": "stdout",
          "text": [
            "Infix Expression: a-(b*c-d)/e\n",
            "Postfix Expression: abc*d-e/-\n"
          ]
        }
      ]
    },
    {
      "cell_type": "code",
      "source": [
        "a = list(input(\"Enter the postfix expression: \").split(\" \"))\n",
        "stack = []\n",
        "for i in a:\n",
        "    if(i in [\"+\", \"-\", \"*\", \"/\"]):\n",
        "        b = stack.pop()\n",
        "        c = stack.pop()\n",
        "        if(i==\"+\"):\n",
        "            stack.append(c+b)\n",
        "        elif(i==\"-\"):\n",
        "            stack.append(c-b)\n",
        "        elif(i==\"*\"):\n",
        "            stack.append(c*b)\n",
        "        elif(i==\"/\"):\n",
        "            stack.append(c/b)\n",
        "    elif i==\" \":\n",
        "        continue\n",
        "    else:\n",
        "        stack.append(int(i))\n",
        "print(\"The result of the expression: \",stack[0])"
      ],
      "metadata": {
        "colab": {
          "base_uri": "https://localhost:8080/"
        },
        "id": "IdQbNb-vjYYK",
        "outputId": "b3e7f2a3-34b6-4e3c-99ab-af970e7c5ab5"
      },
      "execution_count": 2,
      "outputs": [
        {
          "output_type": "stream",
          "name": "stdout",
          "text": [
            "Enter the postfix expression: 5 4 6 + * 4 9 3 / + *\n",
            "The result of the expression:  350.0\n"
          ]
        }
      ]
    },
    {
      "cell_type": "code",
      "source": [
        "def fib(n):\n",
        "  if n<=1:\n",
        "    return n\n",
        "  else:\n",
        "    return fib(n-1)+fib(n-2)\n",
        "n=int(input(\"enter the number\"))\n",
        "print(fib(n))\n",
        "if n<=0:\n",
        "  print(\"invalid output\")\n",
        "else:\n",
        "  print(\"fibonacci series\")\n",
        "  for i in range(n):\n",
        "    print(fib(i))\n"
      ],
      "metadata": {
        "colab": {
          "base_uri": "https://localhost:8080/"
        },
        "id": "CXFHTSqWmQ0i",
        "outputId": "9dee79cb-5613-413e-c004-fba402241f08"
      },
      "execution_count": 3,
      "outputs": [
        {
          "output_type": "stream",
          "name": "stdout",
          "text": [
            "enter the number12\n",
            "144\n",
            "fibonacci series\n",
            "0\n",
            "1\n",
            "1\n",
            "2\n",
            "3\n",
            "5\n",
            "8\n",
            "13\n",
            "21\n",
            "34\n",
            "55\n",
            "89\n"
          ]
        }
      ]
    },
    {
      "cell_type": "code",
      "source": [],
      "metadata": {
        "id": "ptp3LBDNnZUi"
      },
      "execution_count": 3,
      "outputs": []
    }
  ]
}