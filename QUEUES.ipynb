{
  "nbformat": 4,
  "nbformat_minor": 0,
  "metadata": {
    "colab": {
      "provenance": []
    },
    "kernelspec": {
      "name": "python3",
      "display_name": "Python 3"
    },
    "language_info": {
      "name": "python"
    }
  },
  "cells": [
    {
      "cell_type": "code",
      "source": [
        "q=[]\n",
        "x=int(input(\"enter the limit of queue\"))\n",
        "a=x\n",
        "def add(z):\n",
        "  q.append(z)\n",
        "def out():\n",
        "  q.pop(0)\n",
        "def display():\n",
        "  for i in q:\n",
        "    print(i,end=\"<--\")\n",
        "while True:\n",
        "  y=int(input(\"1:add 2:out 3:display 4:exit\"))\n",
        "  if x!=0:\n",
        "    if y==1:\n",
        "      z=input(\"enter the element\")\n",
        "      add(z)\n",
        "      x=x-1\n",
        "    elif y==2:\n",
        "      out()\n",
        "      x=x+1\n",
        "    elif y==3:\n",
        "      display()\n",
        "    elif y==4:\n",
        "      break\n",
        "    else:\n",
        "      print(\"enter appropriate function\")\n",
        "  else:\n",
        "    if y==1:\n",
        "      print(\"queue is full\")\n",
        "    elif y==2:\n",
        "      out()\n",
        "      x=x+1\n",
        "    elif y==3:\n",
        "      display()\n",
        "    elif y==4:\n",
        "      break\n",
        "    else:\n",
        "      print(\"enter the appropriate opewration\")\n"
      ],
      "metadata": {
        "colab": {
          "base_uri": "https://localhost:8080/"
        },
        "id": "Y128_hvpy-Fp",
        "outputId": "0cb02d0a-7526-474d-bdd9-b0f44a7b38a8"
      },
      "execution_count": 17,
      "outputs": [
        {
          "name": "stdout",
          "output_type": "stream",
          "text": [
            "enter the limit of queue3\n",
            "1:add 2:out 3:display 4:exit1\n",
            "enter the element1\n",
            "1:add 2:out 3:display 4:exit1\n",
            "enter the element2\n",
            "1:add 2:out 3:display 4:exit1\n",
            "enter the element3\n",
            "1:add 2:out 3:display 4:exit1\n",
            "queue is full\n",
            "1:add 2:out 3:display 4:exit3\n",
            "1<--2<--3<--1:add 2:out 3:display 4:exit2\n",
            "1:add 2:out 3:display 4:exit2\n",
            "1:add 2:out 3:display 4:exit3\n",
            "3<--1:add 2:out 3:display 4:exit1\n",
            "enter the element1\n",
            "1:add 2:out 3:display 4:exit1\n",
            "enter the element1\n",
            "1:add 2:out 3:display 4:exit3\n",
            "3<--1<--1<--1:add 2:out 3:display 4:exit4\n"
          ]
        }
      ]
    }
  ]
}