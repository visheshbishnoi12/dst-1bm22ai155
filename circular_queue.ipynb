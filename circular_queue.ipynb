{
  "nbformat": 4,
  "nbformat_minor": 0,
  "metadata": {
    "colab": {
      "provenance": []
    },
    "kernelspec": {
      "name": "python3",
      "display_name": "Python 3"
    },
    "language_info": {
      "name": "python"
    }
  },
  "cells": [
    {
      "cell_type": "code",
      "execution_count": 2,
      "metadata": {
        "colab": {
          "base_uri": "https://localhost:8080/"
        },
        "id": "ENnLGLKY4npm",
        "outputId": "6712e229-38f6-4d04-a735-1187b8aba797"
      },
      "outputs": [
        {
          "output_type": "stream",
          "name": "stdout",
          "text": [
            "Enqueued: 1\n",
            "Enqueued: 2\n",
            "Enqueued: 3\n",
            "Circular Queue:\n",
            "1 2 3 \n",
            "Dequeued: 1\n",
            "Circular Queue:\n",
            "2 3 \n",
            "Enqueued: 4\n",
            "Circular Queue:\n",
            "2 3 4 \n"
          ]
        }
      ],
      "source": [
        "class CircularQueue:\n",
        "  def __init__(self, capacity):\n",
        "    self.capacity = capacity\n",
        "    self.queue = [None] * capacity\n",
        "    self.front = self.rear = -1\n",
        "  def is_empty(self):\n",
        "    return self.front == -1\n",
        "  def is_full(self):\n",
        "    return (self.rear + 1) % self.capacity == self.front\n",
        "  def enqueue(self, item):\n",
        "    if self.is_full():\n",
        "      print(\"Queue is full. Cannot enqueue.\")\n",
        "    else:\n",
        "      if self.is_empty():\n",
        "        self.front = self.rear = 0\n",
        "      else:\n",
        "        self.rear = (self.rear + 1) % self.capacity\n",
        "      self.queue[self.rear] = item\n",
        "      print(f\"Enqueued: {item}\")\n",
        "  def dequeue(self):\n",
        "    if self.is_empty():\n",
        "      print(\"Queue is empty. Cannot dequeue.\")\n",
        "    else:\n",
        "      item = self.queue[self.front]\n",
        "      if self.front == self.rear:\n",
        "        self.front = self.rear = -1\n",
        "      else:\n",
        "        self.front = (self.front + 1) % self.capacity\n",
        "      print(f\"Dequeued: {item}\")\n",
        "      return item\n",
        "  def display(self):\n",
        "    if self.is_empty():\n",
        "      print(\"Queue is empty.\")\n",
        "    else:\n",
        "      print(\"Circular Queue:\")\n",
        "      i = self.front\n",
        "      while True:\n",
        "        print(self.queue[i], end=\" \")\n",
        "        if i == self.rear:\n",
        "           break\n",
        "        i = (i + 1) % self.capacity\n",
        "      print()\n",
        "capacity = 5\n",
        "cq = CircularQueue(capacity)\n",
        "cq.enqueue(1)\n",
        "cq.enqueue(2)\n",
        "cq.enqueue(3)\n",
        "cq.display()\n",
        "cq.dequeue()\n",
        "cq.display()\n",
        "cq.enqueue(4)\n",
        "cq.display()"
      ]
    }
  ]
}