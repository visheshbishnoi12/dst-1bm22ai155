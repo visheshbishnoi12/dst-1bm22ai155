{
  "nbformat": 4,
  "nbformat_minor": 0,
  "metadata": {
    "colab": {
      "provenance": []
    },
    "kernelspec": {
      "name": "python3",
      "display_name": "Python 3"
    },
    "language_info": {
      "name": "python"
    }
  },
  "cells": [
    {
      "cell_type": "code",
      "execution_count": 1,
      "metadata": {
        "colab": {
          "base_uri": "https://localhost:8080/"
        },
        "id": "0AQSj7aXBE6Y",
        "outputId": "c0142a0f-3c77-4cc4-aea5-87e504ba41c3"
      },
      "outputs": [
        {
          "output_type": "stream",
          "name": "stdout",
          "text": [
            "56-->53-->11-->23-->46-->\n",
            "53-->11-->23-->\n"
          ]
        }
      ],
      "source": [
        "class Node:\n",
        "  def __init__(self,data):\n",
        "    self.data = data\n",
        "    self.next = None\n",
        "    self.prev = None\n",
        "\n",
        "class Deque:\n",
        "  def __init__(self,capacity):\n",
        "    self.capacity = capacity\n",
        "    self.size = 0\n",
        "    self.front = None\n",
        "    self.rear = None\n",
        "\n",
        "  def is_empty(self):\n",
        "    return self.size == 0\n",
        "  def is_full(self):\n",
        "    return self.size == self.capacity\n",
        "\n",
        "  def add_front(self,data):\n",
        "    if self.is_full():\n",
        "      print(\"Deque is full\")\n",
        "      return\n",
        "    new_node = Node(data)\n",
        "    if self.is_empty():\n",
        "      self.front = self.rear = new_node\n",
        "    else:\n",
        "      new_node.next = self.front\n",
        "      self.front.prev = new_node\n",
        "      self.front = new_node\n",
        "    self.size += 1\n",
        "  def add_rear(self,data):\n",
        "    if self.is_full():\n",
        "      print(\"Dequeue is full\")\n",
        "      return\n",
        "    new_node = Node(data)\n",
        "    if self.is_empty():\n",
        "      self.front = self.rear = new_node\n",
        "    else:\n",
        "      new_node.prev = self.rear\n",
        "      self.rear.next = new_node\n",
        "      self.rear = new_node\n",
        "    self.size += 1\n",
        "\n",
        "  def remove_front(self):\n",
        "    if self.is_empty():\n",
        "      print(\"Deque is empty\")\n",
        "      return None\n",
        "    data = self.front.data\n",
        "    if self.front == self.rear:\n",
        "      self.self = self.rear = None\n",
        "    else:\n",
        "      self.front = self.front.next\n",
        "      self.front.prev = None\n",
        "    self.size -= 1\n",
        "    return data\n",
        "\n",
        "  def remove_rear(self):\n",
        "    if self.is_empty():\n",
        "      print(\"Deque is empty\")\n",
        "      return None\n",
        "    data = self.rear.data\n",
        "    if self.front == self.rear:\n",
        "      self.front = self.rear = None\n",
        "    else:\n",
        "      self.rear = self.rear.prev\n",
        "      self.rear.next = None\n",
        "    self.size -= 1\n",
        "    return data\n",
        "\n",
        "  def display(self):\n",
        "    if self.is_empty():\n",
        "      print(\"Deque is empty\")\n",
        "      return\n",
        "    current = self.front\n",
        "    while current:\n",
        "      print(current.data,end=\"-->\")\n",
        "      current = current.next\n",
        "    print()\n",
        "\n",
        "d = Deque(50)\n",
        "d.add_front(11)\n",
        "d.add_rear(23)\n",
        "d.add_front(53)\n",
        "d.add_rear(46)\n",
        "d.add_front(56)\n",
        "\n",
        "d.display()\n",
        "\n",
        "d.remove_front()\n",
        "d.remove_rear()\n",
        "\n",
        "d.display()"
      ]
    }
  ]
}