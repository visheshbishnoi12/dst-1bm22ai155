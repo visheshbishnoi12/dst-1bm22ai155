{
  "nbformat": 4,
  "nbformat_minor": 0,
  "metadata": {
    "colab": {
      "provenance": []
    },
    "kernelspec": {
      "name": "python3",
      "display_name": "Python 3"
    },
    "language_info": {
      "name": "python"
    }
  },
  "cells": [
    {
      "cell_type": "code",
      "execution_count": 1,
      "metadata": {
        "colab": {
          "base_uri": "https://localhost:8080/"
        },
        "id": "_D_m0FoB3Yb0",
        "outputId": "1039c245-c6e9-4afa-aa78-1e3adca8a3ba"
      },
      "outputs": [
        {
          "name": "stdout",
          "output_type": "stream",
          "text": [
            "\n",
            "1.add \n",
            "2.Deelete \n",
            "3.Display \n",
            "4.Exit\n",
            "your option - 1\n",
            "Enter the element- 11\n",
            "\n",
            "1.add \n",
            "2.Deelete \n",
            "3.Display \n",
            "4.Exit\n",
            "your option - 1\n",
            "Enter the element- 22\n",
            "\n",
            "1.add \n",
            "2.Deelete \n",
            "3.Display \n",
            "4.Exit\n",
            "your option - 1\n",
            "Enter the element- 33\n",
            "\n",
            "1.add \n",
            "2.Deelete \n",
            "3.Display \n",
            "4.Exit\n",
            "your option - 1\n",
            "Enter the element- 44\n",
            "\n",
            "1.add \n",
            "2.Deelete \n",
            "3.Display \n",
            "4.Exit\n",
            "your option - 1\n",
            "Enter the element- 55\n",
            "\n",
            "1.add \n",
            "2.Deelete \n",
            "3.Display \n",
            "4.Exit\n",
            "your option - 3\n",
            " -->  11 -->  22 -->  33 -->  44 -->  55\n",
            "1.add \n",
            "2.Deelete \n",
            "3.Display \n",
            "4.Exit\n",
            "your option - 2\n",
            "Removed element-  11\n",
            "\n",
            "1.add \n",
            "2.Deelete \n",
            "3.Display \n",
            "4.Exit\n",
            "your option - 2\n",
            "Removed element-  22\n",
            "\n",
            "1.add \n",
            "2.Deelete \n",
            "3.Display \n",
            "4.Exit\n",
            "your option - 3\n",
            " -->  33 -->  44 -->  55\n",
            "1.add \n",
            "2.Deelete \n",
            "3.Display \n",
            "4.Exit\n",
            "your option - 4\n"
          ]
        }
      ],
      "source": [
        "queue = []\n",
        "def enqueue():\n",
        "  num = int(input(\"Enter the element- \"))\n",
        "  queue.append(num)\n",
        "  queue.sort()\n",
        "\n",
        "def dequeue():\n",
        "  if not queue:\n",
        "    print(\"Queue is empty\")\n",
        "  else:\n",
        "    removed_element = queue.pop(0)\n",
        "    print(\"Removed element- \",removed_element)\n",
        "\n",
        "def display():\n",
        "  if not queue:\n",
        "    print(\"Queue is empty\")\n",
        "  else:\n",
        "    for i in queue:\n",
        "      print(\" --> \",i,end=\"\")\n",
        "\n",
        "while True:\n",
        "  print(\"\\n1.add \\n2.Deelete \\n3.Display \\n4.Exit\")\n",
        "  optn = int(input(\"your option - \"))\n",
        "  if optn == 1:\n",
        "    enqueue()\n",
        "  elif optn == 2:\n",
        "    dequeue()\n",
        "  elif optn == 3:\n",
        "    display()\n",
        "  elif optn == 4:\n",
        "    break\n",
        "  else:\n",
        "    print(\"Enter a appropriate operation11\")"
      ]
    }
  ]
}